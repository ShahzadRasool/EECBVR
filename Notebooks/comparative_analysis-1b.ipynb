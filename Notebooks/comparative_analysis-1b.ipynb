{
 "cells": [
  {
   "cell_type": "code",
   "execution_count": 1,
   "metadata": {},
   "outputs": [],
   "source": [
    "# Import Libraries\n",
    "import os , sys\n",
    "import pandas as pd\n",
    "import numpy as np\n",
    "import matplotlib.pyplot as plt\n",
    "import seaborn as sns\n",
    "from scipy.stats import f_oneway ,ttest_ind, ttest_rel,zscore\n",
    "\n",
    "# Ignore Warnings\n",
    "import warnings\n",
    "warnings.filterwarnings('ignore')\n"
   ]
  },
  {
   "cell_type": "code",
   "execution_count": 2,
   "metadata": {},
   "outputs": [],
   "source": [
    "# Load Data\n",
    "# Reload the data\n",
    "audio_data = pd.read_csv('Data/Audio_data.csv')\n",
    "npc_data = pd.read_csv('Data/NPC_data.csv')\n",
    "poster_data = pd.read_csv('Data/Poster_data.csv')\n"
   ]
  },
  {
   "cell_type": "code",
   "execution_count": 3,
   "metadata": {},
   "outputs": [
    {
     "data": {
      "text/plain": [
       "(    Subject  pre-affective  post-affective  pre-cognitive  post-cognitive  \\\n",
       " 0  Student1       0.712446            0.00            0.5        0.666667   \n",
       " 1  Student2       0.283262            0.33            1.0        0.333333   \n",
       " 2  Student3       0.000000            0.33            0.5        0.000000   \n",
       " 3  Student4       0.570815            0.00            0.5        0.166667   \n",
       " 4  Student5       0.283262            0.00            1.0        0.166667   \n",
       " \n",
       "    pre-connative  post-connative   pre-PEB  post-PEB  \n",
       " 0           0.50        0.802395  0.300699       1.0  \n",
       " 1           1.00        0.203593  0.000000       1.0  \n",
       " 2           0.75        0.401198  0.398601       0.6  \n",
       " 3           0.75        0.401198  1.000000       0.6  \n",
       " 4           0.00        0.401198  0.496503       0.0  ,\n",
       "      Subject  pre-affective  post-affective  pre-cognitive  post-cognitive  \\\n",
       " 0  Student21       0.572650         0.75188            0.8             0.4   \n",
       " 1  Student22       0.145299         0.75188            0.6             0.4   \n",
       " 2  Student23       0.572650         0.24812            0.2             0.8   \n",
       " 3  Student24       0.000000         1.00000            0.8             0.2   \n",
       " 4  Student25       0.572650         0.75188            0.4             0.8   \n",
       " \n",
       "    pre-connative  post-connative   pre-PEB  post-PEB  \n",
       " 0       0.333333        0.746269  0.558140  0.833333  \n",
       " 1       0.333333        0.500000  0.558140  0.500000  \n",
       " 2       1.000000        0.746269  0.666667  0.166667  \n",
       " 3       0.333333        0.000000  0.333333  0.500000  \n",
       " 4       0.666667        0.500000  0.666667  0.166667  ,\n",
       "      Subject  pre-affective  post-affective  pre-cognitive  post-cognitive  \\\n",
       " 0  Student41       0.854701        0.876404            0.4             0.8   \n",
       " 1  Student42       0.854701        0.625468            1.0             1.0   \n",
       " 2  Student43       0.572650        1.000000            0.8             0.8   \n",
       " 3  Student44       0.572650        0.876404            0.6             0.6   \n",
       " 4  Student45       0.427350        0.501873            0.6             0.4   \n",
       " \n",
       "    pre-connative  post-connative   pre-PEB  post-PEB  \n",
       " 0          0.750        0.712446  0.418605  0.571429  \n",
       " 1          0.750        0.712446  0.500000  1.000000  \n",
       " 2          0.875        0.858369  0.912791  0.571429  \n",
       " 3          0.500        0.570815  0.831395  0.571429  \n",
       " 4          0.625        0.570815  0.581395  0.428571  )"
      ]
     },
     "execution_count": 3,
     "metadata": {},
     "output_type": "execute_result"
    }
   ],
   "source": [
    "def min_max_normalize(df):\n",
    "    for column in df.columns:\n",
    "        if 'pre' in column or 'post' in column:\n",
    "            df[column] = (df[column] - df[column].min()) / (df[column].max() - df[column].min())\n",
    "    return df\n",
    "\n",
    "audio_data_normalized = min_max_normalize(audio_data.copy())\n",
    "npc_data_normalized = min_max_normalize(npc_data.copy())\n",
    "poster_data_normalized = min_max_normalize(poster_data.copy())\n"
   ]
  },
  {
   "cell_type": "code",
   "execution_count": 9,
   "metadata": {},
   "outputs": [
    {
     "data": {
      "text/html": [
       "<div>\n",
       "<style scoped>\n",
       "    .dataframe tbody tr th:only-of-type {\n",
       "        vertical-align: middle;\n",
       "    }\n",
       "\n",
       "    .dataframe tbody tr th {\n",
       "        vertical-align: top;\n",
       "    }\n",
       "\n",
       "    .dataframe thead th {\n",
       "        text-align: right;\n",
       "    }\n",
       "</style>\n",
       "<table border=\"1\" class=\"dataframe\">\n",
       "  <thead>\n",
       "    <tr style=\"text-align: right;\">\n",
       "      <th></th>\n",
       "      <th>t-statistic</th>\n",
       "      <th>p-value</th>\n",
       "      <th>significant</th>\n",
       "    </tr>\n",
       "  </thead>\n",
       "  <tbody>\n",
       "    <tr>\n",
       "      <th>pre-PEB</th>\n",
       "      <td>-0.788121</td>\n",
       "      <td>0.440349</td>\n",
       "      <td>False</td>\n",
       "    </tr>\n",
       "    <tr>\n",
       "      <th>post-PEB</th>\n",
       "      <td>NaN</td>\n",
       "      <td>NaN</td>\n",
       "      <td>False</td>\n",
       "    </tr>\n",
       "    <tr>\n",
       "      <th>pre-PEB</th>\n",
       "      <td>0.501714</td>\n",
       "      <td>0.621633</td>\n",
       "      <td>False</td>\n",
       "    </tr>\n",
       "    <tr>\n",
       "      <th>post-PEB</th>\n",
       "      <td>NaN</td>\n",
       "      <td>NaN</td>\n",
       "      <td>False</td>\n",
       "    </tr>\n",
       "    <tr>\n",
       "      <th>pre-PEB</th>\n",
       "      <td>-0.829140</td>\n",
       "      <td>0.417321</td>\n",
       "      <td>False</td>\n",
       "    </tr>\n",
       "    <tr>\n",
       "      <th>post-PEB</th>\n",
       "      <td>NaN</td>\n",
       "      <td>NaN</td>\n",
       "      <td>False</td>\n",
       "    </tr>\n",
       "  </tbody>\n",
       "</table>\n",
       "</div>"
      ],
      "text/plain": [
       "          t-statistic   p-value  significant\n",
       "pre-PEB     -0.788121  0.440349        False\n",
       "post-PEB          NaN       NaN        False\n",
       "pre-PEB      0.501714  0.621633        False\n",
       "post-PEB          NaN       NaN        False\n",
       "pre-PEB     -0.829140  0.417321        False\n",
       "post-PEB          NaN       NaN        False"
      ]
     },
     "execution_count": 9,
     "metadata": {},
     "output_type": "execute_result"
    }
   ],
   "source": [
    "# Paired t-test for pre- and post PEB for each dataset\n",
    "def paired_t_test(df):\n",
    "    t_test = {}\n",
    "    for column in df.columns:\n",
    "        if 'pre-PEB' in column or 'post-PEB' in column:\n",
    "            pre = df[column].values\n",
    "            post = df[column.replace('pre', 'post')].values\n",
    "            t_test[column] = ttest_rel(pre, post)\n",
    "    return t_test\n",
    "\n",
    "audio_t_test = paired_t_test(audio_data_normalized)\n",
    "npc_t_test = paired_t_test(npc_data_normalized)\n",
    "poster_t_test = paired_t_test(poster_data_normalized)\n",
    "\n",
    "# Save the results t-test and p-values in a dataframe\n",
    "audio_t_test_df = pd.DataFrame(audio_t_test).T\n",
    "npc_t_test_df = pd.DataFrame(npc_t_test).T\n",
    "poster_t_test_df = pd.DataFrame(poster_t_test).T\n",
    "\n",
    "#combine the results\n",
    "t_test_results = pd.concat([audio_t_test_df, npc_t_test_df, poster_t_test_df], axis=0)\n",
    "t_test_results.columns = ['t-statistic', 'p-value']\n",
    "t_test_results['significant'] = t_test_results['p-value'] < 0.05\n",
    "t_test_results"
   ]
  },
  {
   "cell_type": "code",
   "execution_count": null,
   "metadata": {},
   "outputs": [],
   "source": []
  }
 ],
 "metadata": {
  "kernelspec": {
   "display_name": "BI801",
   "language": "python",
   "name": "python3"
  },
  "language_info": {
   "codemirror_mode": {
    "name": "ipython",
    "version": 3
   },
   "file_extension": ".py",
   "mimetype": "text/x-python",
   "name": "python",
   "nbconvert_exporter": "python",
   "pygments_lexer": "ipython3",
   "version": "3.10.13"
  }
 },
 "nbformat": 4,
 "nbformat_minor": 2
}
